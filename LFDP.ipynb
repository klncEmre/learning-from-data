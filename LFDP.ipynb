{
 "cells": [
  {
   "cell_type": "code",
   "execution_count": 140,
   "id": "83948551",
   "metadata": {},
   "outputs": [],
   "source": [
    "import numpy as np \n",
    "import pandas as pd\n",
    "import csv\n",
    "import matplotlib.pyplot as plt\n",
    "from sklearn.model_selection import KFold\n",
    "from sklearn.linear_model import LinearRegression\n",
    "\n",
    "from sklearn.metrics import mean_squared_error as mse"
   ]
  },
  {
   "cell_type": "code",
   "execution_count": 141,
   "id": "21e81cc2",
   "metadata": {},
   "outputs": [],
   "source": [
    "#read csv files, there is no ID columns \n",
    "X=pd.read_csv(\"train_features.csv\")\n",
    "y=pd.read_csv(\"train_targets.csv\")\n",
    "test=pd.read_csv(\"test_features.csv\")"
   ]
  },
  {
   "cell_type": "code",
   "execution_count": 142,
   "id": "be4723e8",
   "metadata": {},
   "outputs": [
    {
     "data": {
      "text/html": [
       "<div>\n",
       "<style scoped>\n",
       "    .dataframe tbody tr th:only-of-type {\n",
       "        vertical-align: middle;\n",
       "    }\n",
       "\n",
       "    .dataframe tbody tr th {\n",
       "        vertical-align: top;\n",
       "    }\n",
       "\n",
       "    .dataframe thead th {\n",
       "        text-align: right;\n",
       "    }\n",
       "</style>\n",
       "<table border=\"1\" class=\"dataframe\">\n",
       "  <thead>\n",
       "    <tr style=\"text-align: right;\">\n",
       "      <th></th>\n",
       "      <th>age</th>\n",
       "      <th>sex</th>\n",
       "      <th>bmi</th>\n",
       "      <th>children</th>\n",
       "      <th>smoker</th>\n",
       "      <th>region</th>\n",
       "    </tr>\n",
       "  </thead>\n",
       "  <tbody>\n",
       "    <tr>\n",
       "      <th>0</th>\n",
       "      <td>40</td>\n",
       "      <td>female</td>\n",
       "      <td>25.460</td>\n",
       "      <td>1</td>\n",
       "      <td>no</td>\n",
       "      <td>northeast</td>\n",
       "    </tr>\n",
       "    <tr>\n",
       "      <th>1</th>\n",
       "      <td>18</td>\n",
       "      <td>male</td>\n",
       "      <td>39.140</td>\n",
       "      <td>0</td>\n",
       "      <td>no</td>\n",
       "      <td>northeast</td>\n",
       "    </tr>\n",
       "    <tr>\n",
       "      <th>2</th>\n",
       "      <td>55</td>\n",
       "      <td>female</td>\n",
       "      <td>29.700</td>\n",
       "      <td>2</td>\n",
       "      <td>no</td>\n",
       "      <td>southwest</td>\n",
       "    </tr>\n",
       "    <tr>\n",
       "      <th>3</th>\n",
       "      <td>64</td>\n",
       "      <td>female</td>\n",
       "      <td>35.970</td>\n",
       "      <td>0</td>\n",
       "      <td>no</td>\n",
       "      <td>southeast</td>\n",
       "    </tr>\n",
       "    <tr>\n",
       "      <th>4</th>\n",
       "      <td>34</td>\n",
       "      <td>male</td>\n",
       "      <td>21.375</td>\n",
       "      <td>0</td>\n",
       "      <td>no</td>\n",
       "      <td>northeast</td>\n",
       "    </tr>\n",
       "  </tbody>\n",
       "</table>\n",
       "</div>"
      ],
      "text/plain": [
       "   age     sex     bmi  children smoker     region\n",
       "0   40  female  25.460         1     no  northeast\n",
       "1   18    male  39.140         0     no  northeast\n",
       "2   55  female  29.700         2     no  southwest\n",
       "3   64  female  35.970         0     no  southeast\n",
       "4   34    male  21.375         0     no  northeast"
      ]
     },
     "execution_count": 142,
     "metadata": {},
     "output_type": "execute_result"
    }
   ],
   "source": [
    "X.head()"
   ]
  },
  {
   "cell_type": "code",
   "execution_count": 143,
   "id": "992293ed",
   "metadata": {},
   "outputs": [
    {
     "data": {
      "text/html": [
       "<div>\n",
       "<style scoped>\n",
       "    .dataframe tbody tr th:only-of-type {\n",
       "        vertical-align: middle;\n",
       "    }\n",
       "\n",
       "    .dataframe tbody tr th {\n",
       "        vertical-align: top;\n",
       "    }\n",
       "\n",
       "    .dataframe thead th {\n",
       "        text-align: right;\n",
       "    }\n",
       "</style>\n",
       "<table border=\"1\" class=\"dataframe\">\n",
       "  <thead>\n",
       "    <tr style=\"text-align: right;\">\n",
       "      <th></th>\n",
       "      <th>age</th>\n",
       "      <th>sex</th>\n",
       "      <th>bmi</th>\n",
       "      <th>children</th>\n",
       "      <th>smoker</th>\n",
       "      <th>region</th>\n",
       "    </tr>\n",
       "  </thead>\n",
       "  <tbody>\n",
       "    <tr>\n",
       "      <th>895</th>\n",
       "      <td>50</td>\n",
       "      <td>male</td>\n",
       "      <td>26.41</td>\n",
       "      <td>0</td>\n",
       "      <td>no</td>\n",
       "      <td>northwest</td>\n",
       "    </tr>\n",
       "    <tr>\n",
       "      <th>896</th>\n",
       "      <td>23</td>\n",
       "      <td>female</td>\n",
       "      <td>32.78</td>\n",
       "      <td>2</td>\n",
       "      <td>yes</td>\n",
       "      <td>southeast</td>\n",
       "    </tr>\n",
       "    <tr>\n",
       "      <th>897</th>\n",
       "      <td>62</td>\n",
       "      <td>female</td>\n",
       "      <td>26.29</td>\n",
       "      <td>0</td>\n",
       "      <td>yes</td>\n",
       "      <td>southeast</td>\n",
       "    </tr>\n",
       "    <tr>\n",
       "      <th>898</th>\n",
       "      <td>63</td>\n",
       "      <td>male</td>\n",
       "      <td>21.66</td>\n",
       "      <td>1</td>\n",
       "      <td>no</td>\n",
       "      <td>northwest</td>\n",
       "    </tr>\n",
       "    <tr>\n",
       "      <th>899</th>\n",
       "      <td>18</td>\n",
       "      <td>female</td>\n",
       "      <td>21.66</td>\n",
       "      <td>0</td>\n",
       "      <td>yes</td>\n",
       "      <td>northeast</td>\n",
       "    </tr>\n",
       "  </tbody>\n",
       "</table>\n",
       "</div>"
      ],
      "text/plain": [
       "     age     sex    bmi  children smoker     region\n",
       "895   50    male  26.41         0     no  northwest\n",
       "896   23  female  32.78         2    yes  southeast\n",
       "897   62  female  26.29         0    yes  southeast\n",
       "898   63    male  21.66         1     no  northwest\n",
       "899   18  female  21.66         0    yes  northeast"
      ]
     },
     "execution_count": 143,
     "metadata": {},
     "output_type": "execute_result"
    }
   ],
   "source": [
    "X.tail()"
   ]
  },
  {
   "cell_type": "code",
   "execution_count": 144,
   "id": "c5d06a39",
   "metadata": {},
   "outputs": [
    {
     "data": {
      "text/plain": [
       "(900, 6)"
      ]
     },
     "execution_count": 144,
     "metadata": {},
     "output_type": "execute_result"
    }
   ],
   "source": [
    "X.shape"
   ]
  },
  {
   "cell_type": "code",
   "execution_count": 145,
   "id": "13994a28",
   "metadata": {},
   "outputs": [
    {
     "name": "stdout",
     "output_type": "stream",
     "text": [
      "<class 'pandas.core.frame.DataFrame'>\n",
      "RangeIndex: 900 entries, 0 to 899\n",
      "Data columns (total 6 columns):\n",
      " #   Column    Non-Null Count  Dtype  \n",
      "---  ------    --------------  -----  \n",
      " 0   age       900 non-null    int64  \n",
      " 1   sex       900 non-null    object \n",
      " 2   bmi       900 non-null    float64\n",
      " 3   children  900 non-null    int64  \n",
      " 4   smoker    900 non-null    object \n",
      " 5   region    900 non-null    object \n",
      "dtypes: float64(1), int64(2), object(3)\n",
      "memory usage: 42.3+ KB\n"
     ]
    }
   ],
   "source": [
    "X.info()"
   ]
  },
  {
   "cell_type": "code",
   "execution_count": 146,
   "id": "060779cd",
   "metadata": {},
   "outputs": [
    {
     "data": {
      "text/plain": [
       "age         0\n",
       "sex         0\n",
       "bmi         0\n",
       "children    0\n",
       "smoker      0\n",
       "region      0\n",
       "dtype: int64"
      ]
     },
     "execution_count": 146,
     "metadata": {},
     "output_type": "execute_result"
    }
   ],
   "source": [
    "#check null values\n",
    "X.isnull().sum()"
   ]
  },
  {
   "cell_type": "code",
   "execution_count": 147,
   "id": "0f9e3b8c",
   "metadata": {},
   "outputs": [
    {
     "data": {
      "text/html": [
       "<div>\n",
       "<style scoped>\n",
       "    .dataframe tbody tr th:only-of-type {\n",
       "        vertical-align: middle;\n",
       "    }\n",
       "\n",
       "    .dataframe tbody tr th {\n",
       "        vertical-align: top;\n",
       "    }\n",
       "\n",
       "    .dataframe thead th {\n",
       "        text-align: right;\n",
       "    }\n",
       "</style>\n",
       "<table border=\"1\" class=\"dataframe\">\n",
       "  <thead>\n",
       "    <tr style=\"text-align: right;\">\n",
       "      <th></th>\n",
       "      <th>age</th>\n",
       "      <th>bmi</th>\n",
       "      <th>children</th>\n",
       "    </tr>\n",
       "  </thead>\n",
       "  <tbody>\n",
       "    <tr>\n",
       "      <th>count</th>\n",
       "      <td>900.000000</td>\n",
       "      <td>900.000000</td>\n",
       "      <td>900.000000</td>\n",
       "    </tr>\n",
       "    <tr>\n",
       "      <th>mean</th>\n",
       "      <td>39.147778</td>\n",
       "      <td>30.692950</td>\n",
       "      <td>1.094444</td>\n",
       "    </tr>\n",
       "    <tr>\n",
       "      <th>std</th>\n",
       "      <td>13.920454</td>\n",
       "      <td>6.120561</td>\n",
       "      <td>1.208504</td>\n",
       "    </tr>\n",
       "    <tr>\n",
       "      <th>min</th>\n",
       "      <td>18.000000</td>\n",
       "      <td>15.960000</td>\n",
       "      <td>0.000000</td>\n",
       "    </tr>\n",
       "    <tr>\n",
       "      <th>25%</th>\n",
       "      <td>27.000000</td>\n",
       "      <td>26.400000</td>\n",
       "      <td>0.000000</td>\n",
       "    </tr>\n",
       "    <tr>\n",
       "      <th>50%</th>\n",
       "      <td>39.000000</td>\n",
       "      <td>30.302500</td>\n",
       "      <td>1.000000</td>\n",
       "    </tr>\n",
       "    <tr>\n",
       "      <th>75%</th>\n",
       "      <td>51.000000</td>\n",
       "      <td>34.800000</td>\n",
       "      <td>2.000000</td>\n",
       "    </tr>\n",
       "    <tr>\n",
       "      <th>max</th>\n",
       "      <td>64.000000</td>\n",
       "      <td>53.130000</td>\n",
       "      <td>5.000000</td>\n",
       "    </tr>\n",
       "  </tbody>\n",
       "</table>\n",
       "</div>"
      ],
      "text/plain": [
       "              age         bmi    children\n",
       "count  900.000000  900.000000  900.000000\n",
       "mean    39.147778   30.692950    1.094444\n",
       "std     13.920454    6.120561    1.208504\n",
       "min     18.000000   15.960000    0.000000\n",
       "25%     27.000000   26.400000    0.000000\n",
       "50%     39.000000   30.302500    1.000000\n",
       "75%     51.000000   34.800000    2.000000\n",
       "max     64.000000   53.130000    5.000000"
      ]
     },
     "execution_count": 147,
     "metadata": {},
     "output_type": "execute_result"
    }
   ],
   "source": [
    "#overall statistics\n",
    "X.describe()"
   ]
  },
  {
   "cell_type": "code",
   "execution_count": 148,
   "id": "f84415d2",
   "metadata": {},
   "outputs": [
    {
     "data": {
      "text/plain": [
       "array(['northeast', 'southwest', 'southeast', 'northwest'], dtype=object)"
      ]
     },
     "execution_count": 148,
     "metadata": {},
     "output_type": "execute_result"
    }
   ],
   "source": [
    "X['sex'].unique()\n",
    "X['smoker'].unique()\n",
    "X['region'].unique()"
   ]
  },
  {
   "cell_type": "code",
   "execution_count": 149,
   "id": "76a45b10",
   "metadata": {},
   "outputs": [],
   "source": [
    "#convert objects to numerical values sex, smoker, and region \n",
    "#preprocessing\n",
    "X['sex']=X['sex'].map({'female':0, 'male':1})\n",
    "X['smoker']=X['smoker'].map({'no':0, 'yes':1})\n",
    "X['region']=X['region'].map({'northeast':0, 'southwest':1,'southeast':2, 'northwest':3})\n"
   ]
  },
  {
   "cell_type": "markdown",
   "id": "781106bc",
   "metadata": {},
   "source": [
    "split data intrp training and testing sets\n",
    "train model on training set \n",
    "test model on testing set"
   ]
  },
  {
   "cell_type": "code",
   "execution_count": 150,
   "id": "27bc0afc",
   "metadata": {},
   "outputs": [],
   "source": [
    "from sklearn.model_selection import train_test_split\n",
    "X_train,X_test,y_train,y_test=train_test_split(X,y,test_size=0.2,random_state=42)"
   ]
  },
  {
   "cell_type": "code",
   "execution_count": 151,
   "id": "5ac537f3",
   "metadata": {},
   "outputs": [],
   "source": [
    "from sklearn.ensemble import RandomForestRegressor\n",
    "from sklearn.ensemble import GradientBoostingRegressor"
   ]
  },
  {
   "cell_type": "code",
   "execution_count": 153,
   "id": "dc9389c8",
   "metadata": {},
   "outputs": [
    {
     "data": {
      "text/plain": [
       "GradientBoostingRegressor()"
      ]
     },
     "execution_count": 153,
     "metadata": {},
     "output_type": "execute_result"
    }
   ],
   "source": [
    "#model training \n",
    "rf = RandomForestRegressor()\n",
    "rf.fit(X_train,y_train.values.ravel())\n",
    "gr = GradientBoostingRegressor()\n",
    "gr.fit(X_train,y_train.values.ravel())"
   ]
  },
  {
   "cell_type": "code",
   "execution_count": 159,
   "id": "78a97a7d",
   "metadata": {},
   "outputs": [],
   "source": [
    "y_pred1 = rf.predict(X_test)\n",
    "y_pred2 = gr.predict(X_test)\n",
    "\n",
    "df1 = pd.DataFrame({'Actual':y_test.values.flatten(),'rf':y_pred1,'gr':y_pred2})"
   ]
  },
  {
   "cell_type": "code",
   "execution_count": 160,
   "id": "e0988ef0",
   "metadata": {},
   "outputs": [
    {
     "data": {
      "text/html": [
       "<div>\n",
       "<style scoped>\n",
       "    .dataframe tbody tr th:only-of-type {\n",
       "        vertical-align: middle;\n",
       "    }\n",
       "\n",
       "    .dataframe tbody tr th {\n",
       "        vertical-align: top;\n",
       "    }\n",
       "\n",
       "    .dataframe thead th {\n",
       "        text-align: right;\n",
       "    }\n",
       "</style>\n",
       "<table border=\"1\" class=\"dataframe\">\n",
       "  <thead>\n",
       "    <tr style=\"text-align: right;\">\n",
       "      <th></th>\n",
       "      <th>Actual</th>\n",
       "      <th>rf</th>\n",
       "      <th>gr</th>\n",
       "    </tr>\n",
       "  </thead>\n",
       "  <tbody>\n",
       "    <tr>\n",
       "      <th>0</th>\n",
       "      <td>12233.82800</td>\n",
       "      <td>12967.197609</td>\n",
       "      <td>15272.924939</td>\n",
       "    </tr>\n",
       "    <tr>\n",
       "      <th>1</th>\n",
       "      <td>4428.88785</td>\n",
       "      <td>13883.644785</td>\n",
       "      <td>7693.051392</td>\n",
       "    </tr>\n",
       "    <tr>\n",
       "      <th>2</th>\n",
       "      <td>37133.89820</td>\n",
       "      <td>37545.576768</td>\n",
       "      <td>38119.251057</td>\n",
       "    </tr>\n",
       "    <tr>\n",
       "      <th>3</th>\n",
       "      <td>7749.15640</td>\n",
       "      <td>7578.357038</td>\n",
       "      <td>9947.358685</td>\n",
       "    </tr>\n",
       "    <tr>\n",
       "      <th>4</th>\n",
       "      <td>4149.73600</td>\n",
       "      <td>7759.911539</td>\n",
       "      <td>5339.125885</td>\n",
       "    </tr>\n",
       "    <tr>\n",
       "      <th>...</th>\n",
       "      <td>...</td>\n",
       "      <td>...</td>\n",
       "      <td>...</td>\n",
       "    </tr>\n",
       "    <tr>\n",
       "      <th>175</th>\n",
       "      <td>27808.72510</td>\n",
       "      <td>28124.579091</td>\n",
       "      <td>27391.643586</td>\n",
       "    </tr>\n",
       "    <tr>\n",
       "      <th>176</th>\n",
       "      <td>6356.27070</td>\n",
       "      <td>14833.381711</td>\n",
       "      <td>7643.484655</td>\n",
       "    </tr>\n",
       "    <tr>\n",
       "      <th>177</th>\n",
       "      <td>8782.46900</td>\n",
       "      <td>11980.246553</td>\n",
       "      <td>11046.355330</td>\n",
       "    </tr>\n",
       "    <tr>\n",
       "      <th>178</th>\n",
       "      <td>18157.87600</td>\n",
       "      <td>6562.814266</td>\n",
       "      <td>7249.466026</td>\n",
       "    </tr>\n",
       "    <tr>\n",
       "      <th>179</th>\n",
       "      <td>2457.50200</td>\n",
       "      <td>3186.631755</td>\n",
       "      <td>2905.319973</td>\n",
       "    </tr>\n",
       "  </tbody>\n",
       "</table>\n",
       "<p>180 rows × 3 columns</p>\n",
       "</div>"
      ],
      "text/plain": [
       "          Actual            rf            gr\n",
       "0    12233.82800  12967.197609  15272.924939\n",
       "1     4428.88785  13883.644785   7693.051392\n",
       "2    37133.89820  37545.576768  38119.251057\n",
       "3     7749.15640   7578.357038   9947.358685\n",
       "4     4149.73600   7759.911539   5339.125885\n",
       "..           ...           ...           ...\n",
       "175  27808.72510  28124.579091  27391.643586\n",
       "176   6356.27070  14833.381711   7643.484655\n",
       "177   8782.46900  11980.246553  11046.355330\n",
       "178  18157.87600   6562.814266   7249.466026\n",
       "179   2457.50200   3186.631755   2905.319973\n",
       "\n",
       "[180 rows x 3 columns]"
      ]
     },
     "execution_count": 160,
     "metadata": {},
     "output_type": "execute_result"
    }
   ],
   "source": [
    "df1"
   ]
  },
  {
   "cell_type": "code",
   "execution_count": 161,
   "id": "44bea6db",
   "metadata": {},
   "outputs": [],
   "source": [
    "import matplotlib.pyplot as plt"
   ]
  },
  {
   "cell_type": "code",
   "execution_count": 162,
   "id": "e15afb4c",
   "metadata": {},
   "outputs": [
    {
     "data": {
      "text/plain": [
       "<matplotlib.legend.Legend at 0x7fcc5293a640>"
      ]
     },
     "execution_count": 162,
     "metadata": {},
     "output_type": "execute_result"
    },
    {
     "data": {
      "image/png": "[encoded data removed]",
      "text/plain": [
       "<Figure size 432x288 with 2 Axes>"
      ]
     },
     "metadata": {
      "needs_background": "light"
     },
     "output_type": "display_data"
    }
   ],
   "source": [
    "plt.subplot(223)\n",
    "plt.plot(df1['Actual'].iloc[0:11],label='Actual')\n",
    "plt.plot(df1['rf'].iloc[0:11],label=\"rf\")\n",
    "plt.legend()\n",
    "\n",
    "plt.subplot(224)\n",
    "plt.plot(df1['Actual'].iloc[0:11],label='Actual')\n",
    "plt.plot(df1['gr'].iloc[0:11],label=\"gr\")\n",
    "\n",
    "plt.tight_layout()\n",
    "\n",
    "plt.legend()"
   ]
  },
  {
   "cell_type": "code",
   "execution_count": 165,
   "id": "83ad0ee2",
   "metadata": {},
   "outputs": [
    {
     "data": {
      "text/plain": [
       "GradientBoostingRegressor()"
      ]
     },
     "execution_count": 165,
     "metadata": {},
     "output_type": "execute_result"
    }
   ],
   "source": [
    "gr = GradientBoostingRegressor()\n",
    "gr.fit(X,y.ravel())"
   ]
  },
  {
   "cell_type": "code",
   "execution_count": null,
   "id": "096aea39",
   "metadata": {},
   "outputs": [],
   "source": []
  },
  {
   "cell_type": "code",
   "execution_count": 188,
   "id": "01d683b9",
   "metadata": {},
   "outputs": [
    {
     "name": "stdout",
     "output_type": "stream",
     "text": [
      "Fold:  1\n",
      "MSE Result:  24935125.412036292\n",
      "\n",
      "Fold:  2\n",
      "MSE Result:  25072925.004025057\n",
      "\n",
      "Fold:  3\n",
      "MSE Result:  25124939.641964562\n",
      "\n",
      "Fold:  4\n",
      "MSE Result:  24774493.11722447\n",
      "\n",
      "Fold:  5\n",
      "MSE Result:  25228112.633797947\n",
      "\n",
      "Total time passed in 5-Fold CV:  0.25\n",
      "Mean of MSEs: 25027119.161809664\n",
      "Training with samples and predicting test samples\n",
      "Done.\n"
     ]
    }
   ],
   "source": [
    "import time\n",
    "from sklearn.ensemble import GradientBoostingRegressor\n",
    "def K5Fold(X, y):\n",
    "    mseList = [] # list to keep MSEs of each fold\n",
    "    startTime = time.time() # start time\n",
    "    kFold = KFold(n_splits=5) # 5-fold CV\n",
    "    foldNo = 1\n",
    "    for train_index, test_index in kFold.split(X):\n",
    "        print(\"Fold: \", foldNo) # printing fold number\n",
    "        model = GradientBoostingRegressor() # training the model\n",
    "        model.fit(X,y.ravel())\n",
    "        prediction = predict(X_test,model) # predicting the test samples\n",
    "        FMse = mse(prediction.flatten(), y_test.to_numpy().flatten()) # calculating MSE of current fold\n",
    "        print(\"MSE Result: \", FMse)\n",
    "        print()\n",
    "        mseList.append(FMse) # appending fold mse to mse list\n",
    "        foldNo += 1\n",
    "    print(\"Total time passed in 5-Fold CV: \",\"{:.2f}\".format((time.time()-startTime))) # printing total time passed\n",
    "    print(\"Mean of MSEs:\",np.mean(mseList)) # printing the mean of all mses of folds\n",
    "K5Fold(X,y)\n",
    "print(\"Training with samples and predicting test samples\")\n",
    "model =GradientBoostingRegressor() # training the model\n",
    "model.fit(X,y.ravel()) # training model for prediction\n",
    "prediction = predict(X_test,model) # predicting using test data\n",
    "write_output(\"predictions.csv\", prediction.flatten()) # writing predictions to csv file\n",
    "print(\"Done.\")"
   ]
  },
  {
   "cell_type": "markdown",
   "id": "0530568d",
   "metadata": {},
   "source": [
    "Prediction"
   ]
  },
  {
   "cell_type": "code",
   "execution_count": 181,
   "id": "1a0508f6",
   "metadata": {},
   "outputs": [],
   "source": [
    "def predict(test, model):\n",
    "    predictions = model.predict(X_test) # predicting the data using model\n",
    "    return predictions"
   ]
  },
  {
   "cell_type": "code",
   "execution_count": 170,
   "id": "2a7b4742",
   "metadata": {},
   "outputs": [],
   "source": [
    "# 5Fold CV gives 5 different model and 5 different model provides 5 different value for one component\n",
    "# For reaching better solution we take average of them\n",
    "def get_average(values):\n",
    "  average_for_out = np.zeros((80, 595))\n",
    "  for i in range(5):\n",
    "    average_for_out += np.array(values[i])\n",
    "  average_for_out = np.true_divide(average_for_out, 5)\n",
    "  return average_for_out"
   ]
  },
  {
   "cell_type": "code",
   "execution_count": 186,
   "id": "afdeffe7",
   "metadata": {},
   "outputs": [],
   "source": [
    "def write_output(filename,predictions):\n",
    "    with open(filename, mode='w', newline='') as output_file: # opening file\n",
    "        output_writer = csv.writer(output_file, delimiter=',') # csv writer\n",
    "        output_writer.writerow([\"ID\", \"predicted\"]) # writning header\n",
    "        for i in range(len(predictions)):\n",
    "            output_writer.writerow([i, predictions[i]])"
   ]
  }
 ],
 "metadata": {
  "kernelspec": {
   "display_name": "Python 3 (ipykernel)",
   "language": "python",
   "name": "python3"
  },
  "language_info": {
   "codemirror_mode": {
    "name": "ipython",
    "version": 3
   },
   "file_extension": ".py",
   "mimetype": "text/x-python",
   "name": "python",
   "nbconvert_exporter": "python",
   "pygments_lexer": "ipython3",
   "version": "3.9.7"
  }
 },
 "nbformat": 4,
 "nbformat_minor": 5
}
