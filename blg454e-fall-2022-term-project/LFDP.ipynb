{
 "cells": [
  {
   "cell_type": "code",
   "execution_count": 52,
   "id": "83948551",
   "metadata": {},
   "outputs": [],
   "source": [
    "import numpy as np \n",
    "import pandas as pd\n",
    "import csv\n",
    "import matplotlib.pyplot as plt\n",
    "from sklearn.model_selection import KFold\n",
    "from sklearn.ensemble import GradientBoostingRegressor\n",
    "from sklearn.ensemble import RandomForestRegressor\n",
    "\n",
    "from sklearn.metrics import mean_squared_error as mse"
   ]
  },
  {
   "cell_type": "code",
   "execution_count": 53,
   "id": "21e81cc2",
   "metadata": {},
   "outputs": [],
   "source": [
    "#read csv files, there is no ID columns \n",
    "X=pd.read_csv(\"train_features.csv\")\n",
    "y=pd.read_csv(\"train_targets.csv\")\n",
    "test=pd.read_csv(\"test_features.csv\")"
   ]
  },
  {
   "cell_type": "code",
   "execution_count": 54,
   "id": "ea5a3a2f",
   "metadata": {},
   "outputs": [],
   "source": [
    "def pre_process(dataframe):\n",
    "    # to have better understanding on data\n",
    "    print(dataframe.head())\n",
    "    print(dataframe.tail())\n",
    "    print(dataframe.shape)\n",
    "    print(dataframe.info())\n",
    "\n",
    "    #convert objects to numerical values sex, smoker, and region \n",
    "    dataframe['sex']=dataframe['sex'].map({'female':0, 'male':1})\n",
    "    dataframe['smoker']=dataframe['smoker'].map({'no':0, 'yes':1})\n",
    "    dataframe['region']=dataframe['region'].map({'northeast':0, 'southwest':1,'southeast':2, 'northwest':3})\n",
    "    dataframe.isnull().sum()\n",
    "    return dataframe\n",
    "    \n"
   ]
  },
  {
   "cell_type": "code",
   "execution_count": 55,
   "id": "060779cd",
   "metadata": {},
   "outputs": [],
   "source": [
    "#check null values\n"
   ]
  },
  {
   "cell_type": "code",
   "execution_count": 56,
   "id": "0f9e3b8c",
   "metadata": {},
   "outputs": [
    {
     "data": {
      "text/html": [
       "<div>\n",
       "<style scoped>\n",
       "    .dataframe tbody tr th:only-of-type {\n",
       "        vertical-align: middle;\n",
       "    }\n",
       "\n",
       "    .dataframe tbody tr th {\n",
       "        vertical-align: top;\n",
       "    }\n",
       "\n",
       "    .dataframe thead th {\n",
       "        text-align: right;\n",
       "    }\n",
       "</style>\n",
       "<table border=\"1\" class=\"dataframe\">\n",
       "  <thead>\n",
       "    <tr style=\"text-align: right;\">\n",
       "      <th></th>\n",
       "      <th>age</th>\n",
       "      <th>bmi</th>\n",
       "      <th>children</th>\n",
       "    </tr>\n",
       "  </thead>\n",
       "  <tbody>\n",
       "    <tr>\n",
       "      <th>count</th>\n",
       "      <td>900.000000</td>\n",
       "      <td>900.000000</td>\n",
       "      <td>900.000000</td>\n",
       "    </tr>\n",
       "    <tr>\n",
       "      <th>mean</th>\n",
       "      <td>39.147778</td>\n",
       "      <td>30.692950</td>\n",
       "      <td>1.094444</td>\n",
       "    </tr>\n",
       "    <tr>\n",
       "      <th>std</th>\n",
       "      <td>13.920454</td>\n",
       "      <td>6.120561</td>\n",
       "      <td>1.208504</td>\n",
       "    </tr>\n",
       "    <tr>\n",
       "      <th>min</th>\n",
       "      <td>18.000000</td>\n",
       "      <td>15.960000</td>\n",
       "      <td>0.000000</td>\n",
       "    </tr>\n",
       "    <tr>\n",
       "      <th>25%</th>\n",
       "      <td>27.000000</td>\n",
       "      <td>26.400000</td>\n",
       "      <td>0.000000</td>\n",
       "    </tr>\n",
       "    <tr>\n",
       "      <th>50%</th>\n",
       "      <td>39.000000</td>\n",
       "      <td>30.302500</td>\n",
       "      <td>1.000000</td>\n",
       "    </tr>\n",
       "    <tr>\n",
       "      <th>75%</th>\n",
       "      <td>51.000000</td>\n",
       "      <td>34.800000</td>\n",
       "      <td>2.000000</td>\n",
       "    </tr>\n",
       "    <tr>\n",
       "      <th>max</th>\n",
       "      <td>64.000000</td>\n",
       "      <td>53.130000</td>\n",
       "      <td>5.000000</td>\n",
       "    </tr>\n",
       "  </tbody>\n",
       "</table>\n",
       "</div>"
      ],
      "text/plain": [
       "              age         bmi    children\n",
       "count  900.000000  900.000000  900.000000\n",
       "mean    39.147778   30.692950    1.094444\n",
       "std     13.920454    6.120561    1.208504\n",
       "min     18.000000   15.960000    0.000000\n",
       "25%     27.000000   26.400000    0.000000\n",
       "50%     39.000000   30.302500    1.000000\n",
       "75%     51.000000   34.800000    2.000000\n",
       "max     64.000000   53.130000    5.000000"
      ]
     },
     "execution_count": 56,
     "metadata": {},
     "output_type": "execute_result"
    }
   ],
   "source": [
    "#overall statistics\n",
    "X.describe()"
   ]
  },
  {
   "cell_type": "code",
   "execution_count": 57,
   "id": "2850a22f",
   "metadata": {},
   "outputs": [
    {
     "name": "stdout",
     "output_type": "stream",
     "text": [
      "   age     sex     bmi  children smoker     region\n",
      "0   40  female  25.460         1     no  northeast\n",
      "1   18    male  39.140         0     no  northeast\n",
      "2   55  female  29.700         2     no  southwest\n",
      "3   64  female  35.970         0     no  southeast\n",
      "4   34    male  21.375         0     no  northeast\n",
      "     age     sex    bmi  children smoker     region\n",
      "895   50    male  26.41         0     no  northwest\n",
      "896   23  female  32.78         2    yes  southeast\n",
      "897   62  female  26.29         0    yes  southeast\n",
      "898   63    male  21.66         1     no  northwest\n",
      "899   18  female  21.66         0    yes  northeast\n",
      "(900, 6)\n",
      "<class 'pandas.core.frame.DataFrame'>\n",
      "RangeIndex: 900 entries, 0 to 899\n",
      "Data columns (total 6 columns):\n",
      " #   Column    Non-Null Count  Dtype  \n",
      "---  ------    --------------  -----  \n",
      " 0   age       900 non-null    int64  \n",
      " 1   sex       900 non-null    object \n",
      " 2   bmi       900 non-null    float64\n",
      " 3   children  900 non-null    int64  \n",
      " 4   smoker    900 non-null    object \n",
      " 5   region    900 non-null    object \n",
      "dtypes: float64(1), int64(2), object(3)\n",
      "memory usage: 42.3+ KB\n",
      "None\n"
     ]
    }
   ],
   "source": [
    "#do preprocessing on data_frame X\n",
    "X = pre_process(X)  "
   ]
  },
  {
   "cell_type": "markdown",
   "id": "781106bc",
   "metadata": {},
   "source": [
    "split data intrp training and testing sets\n",
    "train model on training set \n",
    "test model on testing set"
   ]
  },
  {
   "cell_type": "code",
   "execution_count": 58,
   "id": "27bc0afc",
   "metadata": {},
   "outputs": [],
   "source": [
    "from sklearn.model_selection import train_test_split\n",
    "X_train,X_test,y_train,y_test= train_test_split(X,y,test_size=0.2,random_state=42)"
   ]
  },
  {
   "cell_type": "code",
   "execution_count": 59,
   "id": "dc9389c8",
   "metadata": {},
   "outputs": [
    {
     "data": {
      "text/html": [
       "<style>#sk-container-id-5 {color: black;background-color: white;}#sk-container-id-5 pre{padding: 0;}#sk-container-id-5 div.sk-toggleable {background-color: white;}#sk-container-id-5 label.sk-toggleable__label {cursor: pointer;display: block;width: 100%;margin-bottom: 0;padding: 0.3em;box-sizing: border-box;text-align: center;}#sk-container-id-5 label.sk-toggleable__label-arrow:before {content: \"▸\";float: left;margin-right: 0.25em;color: #696969;}#sk-container-id-5 label.sk-toggleable__label-arrow:hover:before {color: black;}#sk-container-id-5 div.sk-estimator:hover label.sk-toggleable__label-arrow:before {color: black;}#sk-container-id-5 div.sk-toggleable__content {max-height: 0;max-width: 0;overflow: hidden;text-align: left;background-color: #f0f8ff;}#sk-container-id-5 div.sk-toggleable__content pre {margin: 0.2em;color: black;border-radius: 0.25em;background-color: #f0f8ff;}#sk-container-id-5 input.sk-toggleable__control:checked~div.sk-toggleable__content {max-height: 200px;max-width: 100%;overflow: auto;}#sk-container-id-5 input.sk-toggleable__control:checked~label.sk-toggleable__label-arrow:before {content: \"▾\";}#sk-container-id-5 div.sk-estimator input.sk-toggleable__control:checked~label.sk-toggleable__label {background-color: #d4ebff;}#sk-container-id-5 div.sk-label input.sk-toggleable__control:checked~label.sk-toggleable__label {background-color: #d4ebff;}#sk-container-id-5 input.sk-hidden--visually {border: 0;clip: rect(1px 1px 1px 1px);clip: rect(1px, 1px, 1px, 1px);height: 1px;margin: -1px;overflow: hidden;padding: 0;position: absolute;width: 1px;}#sk-container-id-5 div.sk-estimator {font-family: monospace;background-color: #f0f8ff;border: 1px dotted black;border-radius: 0.25em;box-sizing: border-box;margin-bottom: 0.5em;}#sk-container-id-5 div.sk-estimator:hover {background-color: #d4ebff;}#sk-container-id-5 div.sk-parallel-item::after {content: \"\";width: 100%;border-bottom: 1px solid gray;flex-grow: 1;}#sk-container-id-5 div.sk-label:hover label.sk-toggleable__label {background-color: #d4ebff;}#sk-container-id-5 div.sk-serial::before {content: \"\";position: absolute;border-left: 1px solid gray;box-sizing: border-box;top: 0;bottom: 0;left: 50%;z-index: 0;}#sk-container-id-5 div.sk-serial {display: flex;flex-direction: column;align-items: center;background-color: white;padding-right: 0.2em;padding-left: 0.2em;position: relative;}#sk-container-id-5 div.sk-item {position: relative;z-index: 1;}#sk-container-id-5 div.sk-parallel {display: flex;align-items: stretch;justify-content: center;background-color: white;position: relative;}#sk-container-id-5 div.sk-item::before, #sk-container-id-5 div.sk-parallel-item::before {content: \"\";position: absolute;border-left: 1px solid gray;box-sizing: border-box;top: 0;bottom: 0;left: 50%;z-index: -1;}#sk-container-id-5 div.sk-parallel-item {display: flex;flex-direction: column;z-index: 1;position: relative;background-color: white;}#sk-container-id-5 div.sk-parallel-item:first-child::after {align-self: flex-end;width: 50%;}#sk-container-id-5 div.sk-parallel-item:last-child::after {align-self: flex-start;width: 50%;}#sk-container-id-5 div.sk-parallel-item:only-child::after {width: 0;}#sk-container-id-5 div.sk-dashed-wrapped {border: 1px dashed gray;margin: 0 0.4em 0.5em 0.4em;box-sizing: border-box;padding-bottom: 0.4em;background-color: white;}#sk-container-id-5 div.sk-label label {font-family: monospace;font-weight: bold;display: inline-block;line-height: 1.2em;}#sk-container-id-5 div.sk-label-container {text-align: center;}#sk-container-id-5 div.sk-container {/* jupyter's `normalize.less` sets `[hidden] { display: none; }` but bootstrap.min.css set `[hidden] { display: none !important; }` so we also need the `!important` here to be able to override the default hidden behavior on the sphinx rendered scikit-learn.org. See: https://github.com/scikit-learn/scikit-learn/issues/21755 */display: inline-block !important;position: relative;}#sk-container-id-5 div.sk-text-repr-fallback {display: none;}</style><div id=\"sk-container-id-5\" class=\"sk-top-container\"><div class=\"sk-text-repr-fallback\"><pre>GradientBoostingRegressor()</pre><b>In a Jupyter environment, please rerun this cell to show the HTML representation or trust the notebook. <br />On GitHub, the HTML representation is unable to render, please try loading this page with nbviewer.org.</b></div><div class=\"sk-container\" hidden><div class=\"sk-item\"><div class=\"sk-estimator sk-toggleable\"><input class=\"sk-toggleable__control sk-hidden--visually\" id=\"sk-estimator-id-5\" type=\"checkbox\" checked><label for=\"sk-estimator-id-5\" class=\"sk-toggleable__label sk-toggleable__label-arrow\">GradientBoostingRegressor</label><div class=\"sk-toggleable__content\"><pre>GradientBoostingRegressor()</pre></div></div></div></div></div>"
      ],
      "text/plain": [
       "GradientBoostingRegressor()"
      ]
     },
     "execution_count": 59,
     "metadata": {},
     "output_type": "execute_result"
    }
   ],
   "source": [
    "#model training \n",
    "rf = RandomForestRegressor()\n",
    "rf.fit(X_train,y_train.values.ravel())\n",
    "gr = GradientBoostingRegressor()\n",
    "gr.fit(X_train,y_train.values.ravel())"
   ]
  },
  {
   "cell_type": "code",
   "execution_count": 60,
   "id": "78a97a7d",
   "metadata": {},
   "outputs": [],
   "source": [
    "y_pred1 = rf.predict(X_test)\n",
    "y_pred2 = gr.predict(X_test)\n",
    "\n",
    "df1 = pd.DataFrame({'Actual':y_test.values.flatten(),'rf':y_pred1,'gr':y_pred2})"
   ]
  },
  {
   "cell_type": "code",
   "execution_count": 61,
   "id": "e0988ef0",
   "metadata": {},
   "outputs": [
    {
     "data": {
      "text/html": [
       "<div>\n",
       "<style scoped>\n",
       "    .dataframe tbody tr th:only-of-type {\n",
       "        vertical-align: middle;\n",
       "    }\n",
       "\n",
       "    .dataframe tbody tr th {\n",
       "        vertical-align: top;\n",
       "    }\n",
       "\n",
       "    .dataframe thead th {\n",
       "        text-align: right;\n",
       "    }\n",
       "</style>\n",
       "<table border=\"1\" class=\"dataframe\">\n",
       "  <thead>\n",
       "    <tr style=\"text-align: right;\">\n",
       "      <th></th>\n",
       "      <th>Actual</th>\n",
       "      <th>rf</th>\n",
       "      <th>gr</th>\n",
       "    </tr>\n",
       "  </thead>\n",
       "  <tbody>\n",
       "    <tr>\n",
       "      <th>0</th>\n",
       "      <td>12233.82800</td>\n",
       "      <td>13041.755564</td>\n",
       "      <td>15272.924939</td>\n",
       "    </tr>\n",
       "    <tr>\n",
       "      <th>1</th>\n",
       "      <td>4428.88785</td>\n",
       "      <td>13015.598020</td>\n",
       "      <td>7693.051392</td>\n",
       "    </tr>\n",
       "    <tr>\n",
       "      <th>2</th>\n",
       "      <td>37133.89820</td>\n",
       "      <td>37539.148188</td>\n",
       "      <td>38119.251057</td>\n",
       "    </tr>\n",
       "    <tr>\n",
       "      <th>3</th>\n",
       "      <td>7749.15640</td>\n",
       "      <td>7493.296817</td>\n",
       "      <td>9947.358685</td>\n",
       "    </tr>\n",
       "    <tr>\n",
       "      <th>4</th>\n",
       "      <td>4149.73600</td>\n",
       "      <td>7301.814504</td>\n",
       "      <td>5339.125885</td>\n",
       "    </tr>\n",
       "    <tr>\n",
       "      <th>...</th>\n",
       "      <td>...</td>\n",
       "      <td>...</td>\n",
       "      <td>...</td>\n",
       "    </tr>\n",
       "    <tr>\n",
       "      <th>175</th>\n",
       "      <td>27808.72510</td>\n",
       "      <td>28114.319336</td>\n",
       "      <td>27391.643586</td>\n",
       "    </tr>\n",
       "    <tr>\n",
       "      <th>176</th>\n",
       "      <td>6356.27070</td>\n",
       "      <td>12570.796216</td>\n",
       "      <td>7643.484655</td>\n",
       "    </tr>\n",
       "    <tr>\n",
       "      <th>177</th>\n",
       "      <td>8782.46900</td>\n",
       "      <td>12784.746522</td>\n",
       "      <td>11046.355330</td>\n",
       "    </tr>\n",
       "    <tr>\n",
       "      <th>178</th>\n",
       "      <td>18157.87600</td>\n",
       "      <td>6488.534865</td>\n",
       "      <td>7249.466026</td>\n",
       "    </tr>\n",
       "    <tr>\n",
       "      <th>179</th>\n",
       "      <td>2457.50200</td>\n",
       "      <td>3104.189344</td>\n",
       "      <td>2905.319973</td>\n",
       "    </tr>\n",
       "  </tbody>\n",
       "</table>\n",
       "<p>180 rows × 3 columns</p>\n",
       "</div>"
      ],
      "text/plain": [
       "          Actual            rf            gr\n",
       "0    12233.82800  13041.755564  15272.924939\n",
       "1     4428.88785  13015.598020   7693.051392\n",
       "2    37133.89820  37539.148188  38119.251057\n",
       "3     7749.15640   7493.296817   9947.358685\n",
       "4     4149.73600   7301.814504   5339.125885\n",
       "..           ...           ...           ...\n",
       "175  27808.72510  28114.319336  27391.643586\n",
       "176   6356.27070  12570.796216   7643.484655\n",
       "177   8782.46900  12784.746522  11046.355330\n",
       "178  18157.87600   6488.534865   7249.466026\n",
       "179   2457.50200   3104.189344   2905.319973\n",
       "\n",
       "[180 rows x 3 columns]"
      ]
     },
     "execution_count": 61,
     "metadata": {},
     "output_type": "execute_result"
    }
   ],
   "source": [
    "df1 "
   ]
  },
  {
   "cell_type": "code",
   "execution_count": 63,
   "id": "e15afb4c",
   "metadata": {},
   "outputs": [
    {
     "data": {
      "text/plain": [
       "<matplotlib.legend.Legend at 0x14a4885e0>"
      ]
     },
     "execution_count": 63,
     "metadata": {},
     "output_type": "execute_result"
    },
    {
     "data": {
      "image/png": "[encoded data removed]",
      "text/plain": [
       "<Figure size 640x480 with 2 Axes>"
      ]
     },
     "metadata": {},
     "output_type": "display_data"
    }
   ],
   "source": [
    "import matplotlib.pyplot as plt\n",
    "\n",
    "plt.subplot(223)\n",
    "plt.plot(df1['Actual'].iloc[0:11],label='Actual')\n",
    "plt.plot(df1['rf'].iloc[0:11],label=\"rf\")\n",
    "plt.legend()\n",
    "\n",
    "plt.subplot(224)\n",
    "plt.plot(df1['Actual'].iloc[0:11],label='Actual')\n",
    "plt.plot(df1['gr'].iloc[0:11],label=\"gr\")\n",
    "\n",
    "plt.tight_layout()\n",
    "\n",
    "plt.legend()\n"
   ]
  },
  {
   "attachments": {},
   "cell_type": "markdown",
   "id": "3d34c53f",
   "metadata": {},
   "source": [
    "We can see that gradient boosting regressor is better fit."
   ]
  },
  {
   "cell_type": "code",
   "execution_count": 64,
   "id": "1a0508f6",
   "metadata": {},
   "outputs": [],
   "source": [
    "#function to predict the output of given test sample with with model.\n",
    "\n",
    "def predict(test, model):\n",
    "    prediction = model.predict(test) # predicting the data using model\n",
    "    return prediction"
   ]
  },
  {
   "cell_type": "code",
   "execution_count": 65,
   "id": "ac3dce40",
   "metadata": {},
   "outputs": [],
   "source": [
    "#we got 5 different models from 5Kfold so if we do average calculation over their results, it will improve our success.\n",
    "\n",
    "def getAveragedPredictions(models, test):\n",
    "    predictions = []\n",
    "    for model in models:     \n",
    "        prediction = predict(X_test_for_submission, model)\n",
    "        predictions.append(prediction)\n",
    "\n",
    "    # Get all predictions data togetger to get mean's of every prediction in next step. \n",
    "    predictions_new = np.column_stack((predictions[0], predictions[1], predictions[2], predictions[3], predictions[4]))\n",
    "\n",
    "    # Compute the mean of each row\n",
    "    averaged_predictions = np.mean(predictions_new, axis=1)\n",
    "    return averaged_predictions"
   ]
  },
  {
   "cell_type": "code",
   "execution_count": 66,
   "id": "afdeffe7",
   "metadata": {},
   "outputs": [],
   "source": [
    "def write_output(filename,predictions):\n",
    "    with open(filename, mode='w', newline='') as output_file: # opening file\n",
    "        output_writer = csv.writer(output_file, delimiter=',') # csv writer\n",
    "        output_writer.writerow([\"ID\", \"predicted\"]) # writning header\n",
    "        for i in range(len(predictions)):\n",
    "            output_writer.writerow([i, predictions[i]])"
   ]
  },
  {
   "cell_type": "code",
   "execution_count": 67,
   "id": "60373b18",
   "metadata": {},
   "outputs": [
    {
     "name": "stdout",
     "output_type": "stream",
     "text": [
      "Fold:  1\n",
      "MSE Result:  27787092.56704635\n",
      "\n",
      "Fold:  2\n",
      "MSE Result:  17000354.02858962\n",
      "\n",
      "Fold:  3\n",
      "MSE Result:  22556745.281439696\n",
      "\n",
      "Fold:  4\n",
      "MSE Result:  24815586.39118905\n",
      "\n",
      "Fold:  5\n",
      "MSE Result:  24121598.632845525\n",
      "\n",
      "Total time passed in 5-Fold CV:  0.54\n",
      "Mean of MSEs: 23256275.38022205\n",
      "Training with samples and predicting test samples\n",
      "   age     sex     bmi  children smoker     region\n",
      "0   31  female  25.800         2     no  southwest\n",
      "1   60    male  24.320         0     no  northwest\n",
      "2   29    male  28.975         1     no  northeast\n",
      "3   44    male  31.350         1    yes  northeast\n",
      "4   43  female  29.900         1     no  southwest\n",
      "     age     sex     bmi  children smoker     region\n",
      "433   29    male  35.500         2    yes  southwest\n",
      "434   62    male  32.110         0     no  northeast\n",
      "435   33  female  39.820         1     no  southeast\n",
      "436   37  female  34.105         1     no  northwest\n",
      "437   40  female  36.190         0     no  southeast\n",
      "(438, 6)\n",
      "<class 'pandas.core.frame.DataFrame'>\n",
      "RangeIndex: 438 entries, 0 to 437\n",
      "Data columns (total 6 columns):\n",
      " #   Column    Non-Null Count  Dtype  \n",
      "---  ------    --------------  -----  \n",
      " 0   age       438 non-null    int64  \n",
      " 1   sex       438 non-null    object \n",
      " 2   bmi       438 non-null    float64\n",
      " 3   children  438 non-null    int64  \n",
      " 4   smoker    438 non-null    object \n",
      " 5   region    438 non-null    object \n",
      "dtypes: float64(1), int64(2), object(3)\n",
      "memory usage: 20.7+ KB\n",
      "None\n",
      "Done.\n"
     ]
    }
   ],
   "source": [
    "import time\n",
    "\n",
    "def K5Fold(X, y):\n",
    "    mseList = [] # list to keep MSEs of each fold\n",
    "    models = []  # list to store created model in every fold.\n",
    "\n",
    "    foldNo = 1 # starting fold.\n",
    "\n",
    "    startTime = time.time() # start time\n",
    "    kFold = KFold(n_splits=5) # 5-fold CV\n",
    "    \n",
    "    \n",
    "    for train_index, test_index in kFold.split(X):\n",
    "        X_train, X_test, y_train, y_test = X.loc[train_index], X.loc[test_index], y.loc[train_index], y.loc[test_index] # samples of current fold\n",
    "        print(\"Fold: \", foldNo) # printing fold number\n",
    "\n",
    "        # training the model\n",
    "        model = GradientBoostingRegressor(loss=\"huber\") \n",
    "        model.fit(X_train, y_train.values.ravel())\n",
    "        prediction = predict(X_test, model) # predicting the test samples\n",
    "        models.append(model)\n",
    "\n",
    "        FMse = mse(prediction.flatten(), y_test.to_numpy().flatten()) # calculating MSE of current fold\n",
    "        print(\"MSE Result: \", FMse)\n",
    "        print()\n",
    "        mseList.append(FMse) # appending fold mse to mse list\n",
    "        \n",
    "        foldNo += 1\n",
    "\n",
    "    print(\"Total time passed in 5-Fold CV: \",\"{:.2f}\".format((time.time()-startTime))) # printing total time passed\n",
    "    print(\"Mean of MSEs:\",np.mean(mseList)) # printing the mean of all mses of folds\n",
    "    return models\n",
    "\n",
    "# Train and get 5 model from K5Fold\n",
    "models = K5Fold(X,y) \n",
    "print(\"Training with samples and predicting test samples\")\n",
    "X_test_for_submission = pre_process(test)\n",
    "\n",
    "# Get predictions from all of 5 model that we got from k5Fold.\n",
    "averaged_predictions = getAveragedPredictions(models, X_test_for_submission)\n",
    "  \n",
    "write_output(\"predictions.csv\", averaged_predictions.flatten()) # writing predictions to csv file\n",
    "print(\"Done.\")"
   ]
  }
 ],
 "metadata": {
  "kernelspec": {
   "display_name": "Python 3",
   "language": "python",
   "name": "python3"
  },
  "language_info": {
   "codemirror_mode": {
    "name": "ipython",
    "version": 3
   },
   "file_extension": ".py",
   "mimetype": "text/x-python",
   "name": "python",
   "nbconvert_exporter": "python",
   "pygments_lexer": "ipython3",
   "version": "3.10.8"
  },
  "vscode": {
   "interpreter": {
    "hash": "b0fa6594d8f4cbf19f97940f81e996739fb7646882a419484c72d19e05852a7e"
   }
  }
 },
 "nbformat": 4,
 "nbformat_minor": 5
}
